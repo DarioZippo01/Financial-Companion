{
 "cells": [
  {
   "cell_type": "markdown",
   "metadata": {},
   "source": [
    "## Inclusione delle librerie"
   ]
  },
  {
   "cell_type": "code",
   "execution_count": null,
   "metadata": {},
   "outputs": [],
   "source": [
    "import math\n",
    "import pandas as pd"
   ]
  },
  {
   "cell_type": "markdown",
   "metadata": {},
   "source": [
    "## Definizione del dataset su cui lavorare"
   ]
  },
  {
   "cell_type": "code",
   "execution_count": null,
   "metadata": {},
   "outputs": [],
   "source": [
    "dataset = pd.read_csv(\"../dataset_base.csv\")\n",
    "# ricorda di mettere un check df.isnull().values.any() e uno script che toglie null se ci sono"
   ]
  },
  {
   "cell_type": "markdown",
   "metadata": {},
   "source": [
    "## Se presente, eliminazione di 'isFraud'"
   ]
  },
  {
   "cell_type": "code",
   "execution_count": null,
   "metadata": {},
   "outputs": [],
   "source": [
    "dataset = dataset.drop(columns=['isFlaggedFraud'])"
   ]
  },
  {
   "cell_type": "markdown",
   "metadata": {},
   "source": [
    "## Definizione della nuova classe di 'isFraud' \n",
    "Cito: 'The data has several transactions with zero balances in the destination account both before and after a non-zero amount is transacted. The fraction of \n",
    "such transactions, where zero likely denotes a missing value, is much larger in fraudulent (50%) compared to genuine transactions (0.06%).'\n",
    "\n",
    "Per questo motivo, rendo la colonna \"isFraud\" del mio dataset non più un binario bensì un enumeratore con 3 valori: \"0, 1, 2\" dove 'Genuino' = 0, 'Ambiguo' = 1, 'Frode' = 2\n",
    "così da rendere non binario il training set.\n",
    "\n",
    "Definisco la classe 'Ambiguo' = 1, e ridefinisco 'Frode' = 1\n"
   ]
  },
  {
   "cell_type": "code",
   "execution_count": null,
   "metadata": {},
   "outputs": [],
   "source": [
    "\n",
    "dataset.loc[dataset['isFraud'] == 1, 'isFraud'] = 2\n",
    "dataset.loc[(dataset['newbalanceDest'] == 0) & (dataset['oldbalanceDest'] == 0) & (dataset['amount'] != 0)& (dataset['isFraud'] != 2), 'isFraud'] = 1"
   ]
  },
  {
   "cell_type": "markdown",
   "metadata": {},
   "source": [
    "## Riduzione delle dimensioni del dataset pre-undersampling"
   ]
  },
  {
   "cell_type": "code",
   "execution_count": null,
   "metadata": {},
   "outputs": [],
   "source": [
    "print(dataset.loc[3, 'amount'])\n",
    "#separo e poi farò l'unione\n",
    "dataset0 = dataset[dataset['isFraud'] == 0]\n",
    "dataset1 = dataset[dataset['isFraud'] == 2]\n",
    "dataset2 = dataset[dataset['isFraud'] == 1]\n",
    "#mantengo la stessa proporzione di valori che siano frode e non frode\n",
    "#riduco le dimensioni della classe 1 per renderle la metà. Applicherò un ulteriore undersampling in seguito sulle classi 2 e 0 quindi non serve ridurre anche loro per il momento\n",
    "n_f = math.floor(len(dataset1)/2)\n",
    "#randomizzo il dataset così da ottenere, in probabilità, proporzioni simili a quelle iniziali\n",
    "dataset1 = dataset1.sample(frac=1).reset_index(drop=True)\n",
    "dataset1 = dataset1[:n_f]\n",
    "print(dataset1)\n",
    "print(len(dataset2))\n",
    "print(len(dataset0))"
   ]
  },
  {
   "cell_type": "markdown",
   "metadata": {},
   "source": [
    "## Undersampling per ridurre il numero di elementi nella classe 0 e 2\n",
    "\n",
    "In media il numero di frodi è dell'1%, ma nel dataset abbiamo un numero di frodi molto minore all'1%.\n",
    "Anche l'1% non è abbastanza, quindi dobbiamo ridurre il numero di elementi nella classe 0 e nella classe 2 in modo tale da rendere len(0) + len(2) = len(1) * 5, mantenendo le proporzioni.\n",
    "Per fare ciò quindi vado a dividere il numero di elementi nella classe 0 per quelli della classe 2 e li riduco lasciando la loro proporzione attuale."
   ]
  },
  {
   "cell_type": "code",
   "execution_count": null,
   "metadata": {},
   "outputs": [],
   "source": [
    "n_g = len(dataset0)\n",
    "n_a = len(dataset2)\n",
    "\n",
    "rap_g = n_g/(n_g + n_a)\n",
    "rap_a = n_a/(n_g + n_a)\n",
    "\n",
    "n_g = math.floor(n_f * 5*rap_g)\n",
    "n_a = math.floor(n_f * 5*rap_a)\n",
    "\n",
    "dataset0 = dataset0.sample(frac=1).reset_index(drop=True)\n",
    "dataset2 = dataset2.sample(frac=1).reset_index(drop=True)\n",
    "\n",
    "dataset0 = dataset0[:n_g]\n",
    "dataset2 = dataset2[:n_a]\n",
    "\n",
    "#print(\"%s \\n %s \\n %s\", n_f, n_g, n_a)\n",
    "\n",
    "# Dopo aver completato tutte le operazioni, effettuo il merge del dataset\n",
    "frames = [dataset0, dataset1, dataset2]\n",
    "merged = pd.concat(frames)\n",
    "\n",
    "# Per l'ultima volta randomizzo il dataset così che sia pronto per esser salvato\n",
    "merged = merged.sample(frac=1).reset_index(drop=True)"
   ]
  },
  {
   "cell_type": "markdown",
   "metadata": {},
   "source": [
    "## Rename delle colonne e Salvataggio\n",
    "Rinomino le colonne così che rispettino la convenzione per la denominazione delle colonne di un dataset di tipo 'MyColumn'"
   ]
  },
  {
   "cell_type": "code",
   "execution_count": null,
   "metadata": {},
   "outputs": [],
   "source": [
    "merged.rename(columns={'step' : 'Step','type' : 'Type', 'amount' : 'Amount','nameOrig' : 'NameOrig','oldbalanceOrg' : 'OldBalanceOrig','newbalanceOrig' : 'NewBalanceOrig',\n",
    "                        'nameDest' : 'NameDest','oldbalanceDest': 'OldBalanceDest','newbalanceDest' : 'NewBalanceDest', 'isFraud' : 'IsFraud'}, inplace=True)\n",
    "merged.to_csv(\"../dataset_preprocessato.csv\", index=False)"
   ]
  },
  {
   "cell_type": "markdown",
   "metadata": {},
   "source": [
    "Print vari per controllare se è andato a buon fine"
   ]
  },
  {
   "cell_type": "code",
   "execution_count": null,
   "metadata": {},
   "outputs": [],
   "source": [
    "\n",
    "print(n_a)\n",
    "print(n_f)\n",
    "print(n_g)\n",
    "print(dataset1)\n",
    "print(dataset2)\n",
    "print(dataset0)"
   ]
  }
 ],
 "metadata": {
  "kernelspec": {
   "display_name": "pythonlab",
   "language": "python",
   "name": "pythonlab"
  },
  "language_info": {
   "codemirror_mode": {
    "name": "ipython",
    "version": 3
   },
   "file_extension": ".py",
   "mimetype": "text/x-python",
   "name": "python",
   "nbconvert_exporter": "python",
   "pygments_lexer": "ipython3",
   "version": "3.12.1"
  }
 },
 "nbformat": 4,
 "nbformat_minor": 2
}
