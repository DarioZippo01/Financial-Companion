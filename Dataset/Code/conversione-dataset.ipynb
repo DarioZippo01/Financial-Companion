{
 "cells": [
  {
   "cell_type": "code",
   "execution_count": null,
   "metadata": {},
   "outputs": [],
   "source": [
    "import pandas as pd"
   ]
  },
  {
   "cell_type": "code",
   "execution_count": null,
   "metadata": {},
   "outputs": [],
   "source": [
    "# Metodo per trasformare i dati categorici in dati numerici\n",
    "def convert_by_column(row, column_name, dictionary):\n",
    "    if row[column_name] in dictionary:\n",
    "        element = row[column_name]\n",
    "        row[column_name] = dictionary[element]\n",
    "    return row[column_name]"
   ]
  },
  {
   "cell_type": "code",
   "execution_count": null,
   "metadata": {},
   "outputs": [],
   "source": [
    "dataset = pd.read_csv('../dataset_preprocessato.csv')\n",
    "# Creo il dizionario per i tipi di transazione\n",
    "dizionario_types = {'PAYMENT' : '0', 'CASH_OUT' : '1', 'CASH_IN' : '2', 'DEBIT' : '3', 'TRANSFER' : '4'}\n",
    "dizionario_frodi = {'0' : 'Genuino', '1' : 'Ambiguo', '2' : 'Frode'}"
   ]
  },
  {
   "cell_type": "markdown",
   "metadata": {},
   "source": [
    "## Creazione della colonna Type_Format\n",
    "Formatta la colonna 'type' rendendola un intero, e salva il dataset in un nuovo file differente da quello iniziale così da permettere l'utilizzo del dataset precedente in altre operazioni"
   ]
  },
  {
   "cell_type": "code",
   "execution_count": null,
   "metadata": {},
   "outputs": [],
   "source": [
    "dataset[\"TypeFormat\"] = dataset.apply(lambda row: convert_by_column(row, \"Type\", dizionario_types), axis=1)\n",
    "\n",
    "dataset = dataset[['Step', 'TypeFormat', 'Type',  'Amount', 'NameOrig', 'OldBalanceOrig', 'NewBalanceOrig', 'NameDest', 'OldBalanceDest','NewBalanceDest','IsFraud']]\n",
    "dataset.to_csv(\"../dataset_preprocessato.csv\", index = False)"
   ]
  },
  {
   "cell_type": "markdown",
   "metadata": {},
   "source": [
    "## Encoding di 'nameDest' e 'nameOrig'\n",
    "Effettuo l'encoding creando due nuove colonne, all'interno di cui inserirò la probabilità, calcolata tramite una media aritmetica, che ha una certa orig o dest di essere\n",
    "in relazione con una transazione fraudolenta.\n",
    "\n",
    "Feature deprecata, si è preferito non utilizzare tali colonne."
   ]
  },
  {
   "cell_type": "code",
   "execution_count": null,
   "metadata": {},
   "outputs": [],
   "source": [
    "'''target_means_train1 = dataset.groupby('NameOrig')['IsFraud'].mean()\n",
    "target_means_train2 = dataset.groupby('NameDest')['IsFraud'].mean()\n",
    "\n",
    "\n",
    "dataset['NameOrigEncoded'] = dataset['NameOrig'].map(target_means_train1)\n",
    "dataset['NameDestEncoded'] = dataset['NameDest'].map(target_means_train2)\n",
    "\n",
    "dataset = dataset.sort_values(by=['NameOrigEncoded', 'NameDestEncoded'])\n",
    "\n",
    "dataset.to_csv(\"../dataset_preprocessato.csv\", index = False)'''"
   ]
  }
 ],
 "metadata": {
  "kernelspec": {
   "display_name": "pythonlab",
   "language": "python",
   "name": "pythonlab"
  },
  "language_info": {
   "codemirror_mode": {
    "name": "ipython",
    "version": 3
   },
   "file_extension": ".py",
   "mimetype": "text/x-python",
   "name": "python",
   "nbconvert_exporter": "python",
   "pygments_lexer": "ipython3",
   "version": "3.12.1"
  }
 },
 "nbformat": 4,
 "nbformat_minor": 2
}
