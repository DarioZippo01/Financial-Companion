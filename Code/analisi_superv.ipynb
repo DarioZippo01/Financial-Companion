{
 "cells": [
  {
   "cell_type": "code",
   "execution_count": null,
   "metadata": {},
   "outputs": [],
   "source": [
    "from sklearn import preprocessing\n",
    "import pandas as pd\n",
    "import classification_function as cf"
   ]
  },
  {
   "cell_type": "code",
   "execution_count": null,
   "metadata": {},
   "outputs": [],
   "source": [
    "dataset = pd.read_csv('../Dataset/dataset_preprocessato.csv')"
   ]
  },
  {
   "cell_type": "code",
   "execution_count": null,
   "metadata": {},
   "outputs": [],
   "source": [
    "'''import matplotlib.pyplot as plt\n",
    "dataset = dataset.drop(columns=['NameOrig', 'NameDest', 'NameOrigEncoded', 'NameDestEncoded'])\n",
    "# Carica il dataset\n",
    "# Assicurati di sostituire 'percorso_del_tuo_file.csv' con il percorso effettivo del tuo file CSV\n",
    "\n",
    "# Statistiche descrittive dei dati\n",
    "print(dataset.describe())\n",
    "\n",
    "# Iistogrammi per tutte le caratteristiche numeriche\n",
    "dataset.hist(bins=50, figsize=(20,15))\n",
    "plt.show()\n",
    "\n",
    "# Box plot per visualizzare la distribuzione e identificare gli outlier\n",
    "dataset.boxplot(figsize=(20,15))\n",
    "plt.show()\n",
    "varianza = dataset.var()\n",
    "\n",
    "# Calcola la deviazione standard di ogni caratteristica\n",
    "deviazione_standard = dataset.std()\n",
    "\n",
    "# Mostra i risultati\n",
    "print(\"Varianza di ogni caratteristica:\")\n",
    "print(varianza)\n",
    "print(\"\\nDeviazione standard di ogni caratteristica:\")\n",
    "print(deviazione_standard)'''"
   ]
  },
  {
   "cell_type": "code",
   "execution_count": null,
   "metadata": {},
   "outputs": [],
   "source": [
    "target = dataset[\"IsFraud\"] # colonna target\n",
    "\n",
    "training = dataset.drop(columns=[\"IsFraud\", 'NameDest', 'NameOrig', 'Type'])  # training set"
   ]
  },
  {
   "cell_type": "code",
   "execution_count": null,
   "metadata": {},
   "outputs": [],
   "source": [
    "scaler = preprocessing.StandardScaler()\n",
    "scaled_df = scaler.fit_transform(training)\n",
    "training = pd.DataFrame(scaled_df)"
   ]
  },
  {
   "cell_type": "code",
   "execution_count": null,
   "metadata": {},
   "outputs": [],
   "source": [
    "print(\"\\nMultinomial Naive Bayes BEST PARAMS:\")\n",
    "mnb = cf.best_params_multinomial_bayes(training, target)"
   ]
  },
  {
   "cell_type": "code",
   "execution_count": null,
   "metadata": {},
   "outputs": [],
   "source": [
    "print(\"\\nMultinomial Naive Bayes:\")\n",
    "mnb = cf.multinomial_bayes_classification(training, target)"
   ]
  },
  {
   "cell_type": "code",
   "execution_count": null,
   "metadata": {},
   "outputs": [],
   "source": [
    "'''print(\"\\nKNN BEST PARAMS:\")\n",
    "knn = cf.best_params_knn(training, target)'''"
   ]
  },
  {
   "cell_type": "code",
   "execution_count": null,
   "metadata": {},
   "outputs": [],
   "source": [
    "print(\"\\nKNN:\")\n",
    "knn = cf.knn_classification(training, target)"
   ]
  },
  {
   "cell_type": "code",
   "execution_count": null,
   "metadata": {},
   "outputs": [],
   "source": [
    "'''print(\"\\nRandom Forest BEST PARAMS:\")\n",
    "knn = cf.best_params_rf(training, target)'''"
   ]
  },
  {
   "cell_type": "code",
   "execution_count": null,
   "metadata": {},
   "outputs": [],
   "source": [
    "print(\"\\nRandom Forest:\")\n",
    "rf = cf.random_forest_classification(training, target)"
   ]
  },
  {
   "cell_type": "code",
   "execution_count": null,
   "metadata": {},
   "outputs": [],
   "source": [
    "print(\"\\nLogistic Regression BEST PARAMS:\")\n",
    "knn = cf.best_params_clf(training, target)"
   ]
  },
  {
   "cell_type": "code",
   "execution_count": null,
   "metadata": {},
   "outputs": [],
   "source": [
    "print(\"Logistic Regression:\")\n",
    "clf = cf.logistic_regression_classification(training, target)"
   ]
  }
 ],
 "metadata": {
  "kernelspec": {
   "display_name": "venv",
   "language": "python",
   "name": "python3"
  },
  "language_info": {
   "codemirror_mode": {
    "name": "ipython",
    "version": 3
   },
   "file_extension": ".py",
   "mimetype": "text/x-python",
   "name": "python",
   "nbconvert_exporter": "python",
   "pygments_lexer": "ipython3",
   "version": "3.12.1"
  }
 },
 "nbformat": 4,
 "nbformat_minor": 2
}
