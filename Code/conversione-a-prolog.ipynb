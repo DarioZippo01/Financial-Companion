{
 "cells": [
  {
   "cell_type": "code",
   "execution_count": null,
   "metadata": {},
   "outputs": [],
   "source": [
    "import pandas as pd\n",
    "import prolog as pr\n",
    "import numpy as np\n",
    "import clustering_optimization as co"
   ]
  },
  {
   "cell_type": "code",
   "execution_count": null,
   "metadata": {},
   "outputs": [],
   "source": [
    "dataset_intero = pd.read_csv('../Dataset/dataset_preprocessato.csv')\n",
    "dataset_utenti = pd.DataFrame(columns=['NameOrig', 'NewBalanceOrig', 'Step'])"
   ]
  },
  {
   "cell_type": "code",
   "execution_count": null,
   "metadata": {},
   "outputs": [],
   "source": [
    "from matplotlib import pyplot as plt\n",
    "\n",
    "\n",
    "X = dataset_intero.drop(columns=['IsFraud','NameDest', 'NameOrig', 'Type'])  # training set\n",
    "dataset_intero = co.em_clustering(X, dataset_intero)\n",
    "for i in range(0, 10):\n",
    "    df = dataset_intero[(dataset_intero['Cluster'] == i)]\n",
    "    df['IsFraud'].hist(bins=50, figsize=(20,15))\n",
    "    plt.show()"
   ]
  },
  {
   "cell_type": "code",
   "execution_count": null,
   "metadata": {},
   "outputs": [],
   "source": [
    "for index, element in dataset_intero.iterrows():\n",
    "    if element['NameOrig'] not in dataset_utenti:\n",
    "        dataset_utenti.loc[len(dataset_utenti.index)] = [element['NameOrig'], element['NewBalanceOrig'], element['Step']]\n",
    "    elif element['Step'] > dataset_utenti.loc[dataset_utenti[element['NameOrig']], 'Step']:\n",
    "        dataset_utenti.loc[dataset_utenti[element['NameOrig']], 'NewBalanceOrig'] = element['NewBalanceOrig']\n",
    "\n",
    "    if element['NameDest'] not in dataset_utenti:\n",
    "        dataset_utenti.loc[len(dataset_utenti.index)] = [element['NameDest'], element['NewBalanceDest'], element['Step']]\n",
    "    elif element['Step'] > dataset_utenti.loc[dataset_utenti[element['NameDest']], 'Step']:\n",
    "        dataset_utenti.loc[dataset_utenti[element['NameOrig']], 'NewBalanceOrig'] = element['NewBalanceOrig']\n",
    "\n",
    "dataset_utenti.to_csv('../Dataset/dataset_utenti.csv',index=False)  "
   ]
  },
  {
   "cell_type": "code",
   "execution_count": null,
   "metadata": {},
   "outputs": [],
   "source": [
    "# dimostra la presenza o meno di duplicati, che sarebbe un errore\n",
    "'''dataset_utenti = pd.read_csv('../dataset_utenti.csv')\n",
    "dataset_utenti = dataset_utenti['NameOrig']\n",
    "print(dataset_utenti.duplicated())'''"
   ]
  },
  {
   "cell_type": "code",
   "execution_count": null,
   "metadata": {},
   "outputs": [],
   "source": [
    "prolog_facts = []\n",
    "for index, row in dataset_utenti.iterrows():\n",
    "    # Crea un fatto Prolog come stringa\n",
    "    fact = [f'utente({row['NameOrig'].lower()}, {row['NewBalanceOrig']}).']\n",
    "    prolog_facts.extend(fact)\n",
    "id = 0\n",
    "for index, row in dataset_intero.iterrows():\n",
    "    # Crea un fatto Prolog come stringa\n",
    "    fact = [f\"transazione({id},{row['NameOrig'].lower()}, {row['NameDest'].lower()}, {row['Type'].lower()}, {row['Amount']}, {row['Step']}, {row['Cluster']}, {row['IsFraud']}).\"]\n",
    "    prolog_facts.extend(fact)\n",
    "    id = id+1\n",
    "\n",
    "# Scrivi i fatti Prolog in un file\n",
    "with open('../Dataset/analisi_transazioni.pl', 'w') as file:\n",
    "    for fact in prolog_facts:\n",
    "        file.write(fact + '\\n')"
   ]
  },
  {
   "cell_type": "code",
   "execution_count": null,
   "metadata": {},
   "outputs": [],
   "source": [
    "dataset_intero['Cluster'].hist(bins=50, figsize=(20,15))\n",
    "plt.show()"
   ]
  }
 ],
 "metadata": {
  "kernelspec": {
   "display_name": "pythonlab",
   "language": "python",
   "name": "pythonlab"
  },
  "language_info": {
   "codemirror_mode": {
    "name": "ipython",
    "version": 3
   },
   "file_extension": ".py",
   "mimetype": "text/x-python",
   "name": "python",
   "nbconvert_exporter": "python",
   "pygments_lexer": "ipython3",
   "version": "3.12.1"
  }
 },
 "nbformat": 4,
 "nbformat_minor": 2
}
