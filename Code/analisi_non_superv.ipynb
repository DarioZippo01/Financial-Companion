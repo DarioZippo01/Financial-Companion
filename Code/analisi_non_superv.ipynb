{
 "cells": [
  {
   "cell_type": "code",
   "execution_count": null,
   "metadata": {},
   "outputs": [],
   "source": [
    "import pandas as pd\n",
    "import clustering_optimization as co\n",
    "import matplotlib.pyplot as plt"
   ]
  },
  {
   "cell_type": "code",
   "execution_count": null,
   "metadata": {},
   "outputs": [],
   "source": [
    "dataset = pd.read_csv('../Dataset/dataset_preprocessato.csv')"
   ]
  },
  {
   "cell_type": "code",
   "execution_count": null,
   "metadata": {},
   "outputs": [],
   "source": [
    "#X = dataset[(dataset['IsFraud'] != 1)]\n",
    "X = dataset.drop(columns=['IsFraud','NameDest', 'NameOrig', \"Type\"])  # training set"
   ]
  },
  {
   "cell_type": "code",
   "execution_count": null,
   "metadata": {},
   "outputs": [],
   "source": [
    "print(\"\\nBIC Method for Expectation Maximization:\")\n",
    "co.bic_method(X)"
   ]
  },
  {
   "cell_type": "code",
   "execution_count": null,
   "metadata": {},
   "outputs": [],
   "source": [
    "print(\"\\nExpectation Maximization:\")\n",
    "print(co.em_clustering(X, dataset))\n",
    "for i in range(0, 10):\n",
    "    df = dataset[(dataset['Cluster'] == i)]\n",
    "    df['IsFraud'].hist(bins=50, figsize=(20,15))\n",
    "    plt.show()\n",
    "dataset['Cluster'].hist(bins=50, figsize=(20,15))\n",
    "plt.show()"
   ]
  }
 ],
 "metadata": {
  "kernelspec": {
   "display_name": "pythonlab",
   "language": "python",
   "name": "python3"
  },
  "language_info": {
   "codemirror_mode": {
    "name": "ipython",
    "version": 3
   },
   "file_extension": ".py",
   "mimetype": "text/x-python",
   "name": "python",
   "nbconvert_exporter": "python",
   "pygments_lexer": "ipython3",
   "version": "3.12.1"
  }
 },
 "nbformat": 4,
 "nbformat_minor": 2
}
